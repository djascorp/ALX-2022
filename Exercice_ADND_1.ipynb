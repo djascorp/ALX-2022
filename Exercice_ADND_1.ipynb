{
 "cells": [
  {
   "cell_type": "markdown",
   "metadata": {},
   "source": [
    "## **<span style=\"color:#1c4587;\">Exo 1</span>**"
   ]
  },
  {
   "cell_type": "code",
   "execution_count": null,
   "metadata": {},
   "outputs": [],
   "source": [
    "def calc_vitesse(distance,temps):\n",
    "    vitesse = 0\n",
    "    if temps > 0:\n",
    "        vitesse = distance/temps\n",
    "    return vitesse"
   ]
  },
  {
   "cell_type": "code",
   "execution_count": 3,
   "metadata": {},
   "outputs": [
    {
     "name": "stdout",
     "output_type": "stream",
     "text": [
      "3.3333333333333335\n"
     ]
    }
   ],
   "source": [
    "# Test exo1\n",
    "print(calc_vitesse(10,3))"
   ]
  },
  {
   "cell_type": "markdown",
   "metadata": {},
   "source": [
    "## **<span style=\"color:#1c4587;\">Exo 2</span>**"
   ]
  },
  {
   "cell_type": "code",
   "execution_count": 12,
   "metadata": {},
   "outputs": [],
   "source": [
    "age = {'adulte':[],\n",
    "       'mineur':[]\n",
    "                  }\n",
    "\n",
    "def trier(age, valeur):\n",
    "    # Si la nouvelle valeur est  superieur ou egal à 18 ans\n",
    "    # il est majeur\n",
    "    if valeur >= 18:\n",
    "        age['adulte'].append(valeur)\n",
    "    else: # Sinon il est mineur\n",
    "        age['mineur'].append(valeur)\n",
    "        \n",
    "    return age"
   ]
  },
  {
   "cell_type": "code",
   "execution_count": 15,
   "metadata": {},
   "outputs": [
    {
     "name": "stdout",
     "output_type": "stream",
     "text": [
      "{'adulte': [19, 18], 'mineur': [8]}\n"
     ]
    }
   ],
   "source": [
    "# Test exo2\n",
    "age = trier(age,18)\n",
    "print(age)"
   ]
  },
  {
   "cell_type": "markdown",
   "metadata": {},
   "source": [
    "## **<span style=\"color:#1c4587;\">Exo 3</span>**"
   ]
  },
  {
   "cell_type": "code",
   "execution_count": 16,
   "metadata": {},
   "outputs": [],
   "source": [
    "# Creation du fichier\n",
    "with open('fichier.txt', 'w') as f:\n",
    "    for i in range(0, 6):\n",
    "        f.write(f'{i}: {i**2} \\n')\n",
    "    f.close()"
   ]
  },
  {
   "cell_type": "code",
   "execution_count": 21,
   "metadata": {},
   "outputs": [
    {
     "name": "stdout",
     "output_type": "stream",
     "text": [
      "['0: 0 ', '1: 1 ', '2: 4 ', '3: 9 ', '4: 16 ', '5: 25 ']\n"
     ]
    }
   ],
   "source": [
    "# creation de la liste\n",
    "listes = []\n",
    "# Lecture des elements de la liste\n",
    "with open('fichier.txt', 'r') as f:\n",
    "    listes = [ligne for ligne in f.read().splitlines()]\n",
    "    print(listes)\n",
    "    f.close()"
   ]
  },
  {
   "cell_type": "code",
   "execution_count": null,
   "metadata": {},
   "outputs": [],
   "source": []
  }
 ],
 "metadata": {
  "kernelspec": {
   "display_name": "Python 3",
   "language": "python",
   "name": "python3"
  },
  "language_info": {
   "codemirror_mode": {
    "name": "ipython",
    "version": 3
   },
   "file_extension": ".py",
   "mimetype": "text/x-python",
   "name": "python",
   "nbconvert_exporter": "python",
   "pygments_lexer": "ipython3",
   "version": "3.7.6"
  }
 },
 "nbformat": 4,
 "nbformat_minor": 4
}
