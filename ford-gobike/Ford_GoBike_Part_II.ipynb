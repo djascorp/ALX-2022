{
 "cells": [
  {
   "cell_type": "markdown",
   "metadata": {
    "slideshow": {
     "slide_type": "slide"
    }
   },
   "source": [
    "# Part II - (Ford GoBike)\n",
    "## by (Yenika Djasnive RAJAONA )\n",
    "\n",
    "## Table des matières\n",
    "> - <a href=\"#investigation\">Investigation Overview</a>\n",
    "> - <a href=\"#dataset\">Dataset Overview</a>\n",
    "> - <a href=\"#duree\">Distribution de la durée des utilisations des velos</a>\n",
    "> - <a href=\"#jour\">Distribution par jour de la semaine</a>\n",
    "> - <a href=\"#heure\">Distribution par heure</a>"
   ]
  },
  {
   "cell_type": "markdown",
   "metadata": {
    "slideshow": {
     "slide_type": "slide"
    }
   },
   "source": [
    "<span id=\"investigation\"></span>\n",
    "## Investigation Overview\n",
    "\n",
    "Dans cette section, nous allons nous interesser sur les distributions de données mes plus intéréssant. Nous allons nous concentrer sur les comportements qui pourraient conduire à l'augmentation du nombre d'utilisateur.\n"
   ]
  },
  {
   "cell_type": "markdown",
   "metadata": {
    "slideshow": {
     "slide_type": "slide"
    }
   },
   "source": [
    "\n",
    "<span id=\"dataset\"></span>\n",
    "## Dataset Overview\n",
    "\n",
    "Les données que nous allons utiliser sont les extraits du Dataset **Ford GoBike** déjà nettoyés dans la section précédente. Cependant, nous n'allons retenir que les colonnes qui nous sont nésseraire lors de cette présentation.\n",
    "\n",
    "Les colonnes que nous allons garder sont:\n",
    "- **duration_sec** : La durée de l'utilisation d'un velo\n",
    "- **day_name** : Jour de la semaine\n",
    "- **hours** : Heure de l'emprunt\n",
    "- **user_type** : Type de l'utilisateur\n",
    "- **member_age** : Age de l'utilisateur"
   ]
  },
  {
   "cell_type": "code",
   "execution_count": 1,
   "metadata": {
    "slideshow": {
     "slide_type": "skip"
    }
   },
   "outputs": [],
   "source": [
    "# import all packages and set plots to be embedded inline\n",
    "import numpy as np\n",
    "import pandas as pd\n",
    "import matplotlib.pyplot as plt\n",
    "import seaborn as sb\n",
    "\n",
    "%matplotlib inline\n",
    "\n",
    "# suppress warnings from final output\n",
    "import warnings\n",
    "warnings.simplefilter(\"ignore\")"
   ]
  },
  {
   "cell_type": "code",
   "execution_count": 2,
   "metadata": {
    "slideshow": {
     "slide_type": "skip"
    }
   },
   "outputs": [
    {
     "name": "stdout",
     "output_type": "stream",
     "text": [
      "<class 'pandas.core.frame.DataFrame'>\n",
      "RangeIndex: 174880 entries, 0 to 174879\n",
      "Data columns (total 13 columns):\n",
      " #   Column                   Non-Null Count   Dtype \n",
      "---  ------                   --------------   ----- \n",
      " 0   duration_sec             174880 non-null  int64 \n",
      " 1   start_time               174880 non-null  object\n",
      " 2   end_time                 174880 non-null  object\n",
      " 3   start_station_name       174880 non-null  object\n",
      " 4   end_station_name         174880 non-null  object\n",
      " 5   bike_id                  174880 non-null  int64 \n",
      " 6   user_type                174880 non-null  object\n",
      " 7   member_birth_year        174880 non-null  int64 \n",
      " 8   member_gender            174880 non-null  object\n",
      " 9   bike_share_for_all_trip  174880 non-null  object\n",
      " 10  member_age               174880 non-null  int64 \n",
      " 11  day_name                 174880 non-null  object\n",
      " 12  hours                    174880 non-null  int64 \n",
      "dtypes: int64(5), object(8)\n",
      "memory usage: 17.3+ MB\n"
     ]
    }
   ],
   "source": [
    "# load in the dataset into a pandas dataframe\n",
    "df = pd.read_csv(\"cleaned_data.csv\")\n",
    "df.info()"
   ]
  },
  {
   "cell_type": "code",
   "execution_count": 3,
   "metadata": {
    "slideshow": {
     "slide_type": "skip"
    }
   },
   "outputs": [
    {
     "name": "stdout",
     "output_type": "stream",
     "text": [
      "<class 'pandas.core.frame.DataFrame'>\n",
      "RangeIndex: 174880 entries, 0 to 174879\n",
      "Data columns (total 5 columns):\n",
      " #   Column        Non-Null Count   Dtype \n",
      "---  ------        --------------   ----- \n",
      " 0   duration_sec  174880 non-null  int64 \n",
      " 1   user_type     174880 non-null  object\n",
      " 2   member_age    174880 non-null  int64 \n",
      " 3   day_name      174880 non-null  object\n",
      " 4   hours         174880 non-null  int64 \n",
      "dtypes: int64(3), object(2)\n",
      "memory usage: 6.7+ MB\n"
     ]
    }
   ],
   "source": [
    "# Selection des colonnes utiles\n",
    "df = df[[\"duration_sec\",\"user_type\",\"member_age\",\"day_name\",\"hours\"]]\n",
    "df.info()"
   ]
  },
  {
   "cell_type": "markdown",
   "metadata": {
    "slideshow": {
     "slide_type": "slide"
    }
   },
   "source": [
    "<span id=\"duree\"></span>\n",
    "## Distribution de la durée des utilisations des velos\n",
    "\n",
    "On constate lors de la visualisation de la distribution de la durée de l'utilisation des velos que, plus de 75 pourcents des durée d'utilisation sont inférieurs à **789 secondes**, et la majorité des utilisateurs qui durent sont des personnes entre 25 et 40 ans."
   ]
  },
  {
   "cell_type": "code",
   "execution_count": 4,
   "metadata": {
    "scrolled": true,
    "slideshow": {
     "slide_type": "subslide"
    }
   },
   "outputs": [
    {
     "data": {
      "text/plain": [
       "count    174880.000000\n",
       "mean        704.022358\n",
       "std        1642.514884\n",
       "min          61.000000\n",
       "25%         323.000000\n",
       "50%         510.000000\n",
       "75%         789.000000\n",
       "max       84548.000000\n",
       "Name: duration_sec, dtype: float64"
      ]
     },
     "execution_count": 4,
     "metadata": {},
     "output_type": "execute_result"
    }
   ],
   "source": [
    "df.duration_sec.describe()"
   ]
  },
  {
   "cell_type": "code",
   "execution_count": 5,
   "metadata": {
    "slideshow": {
     "slide_type": "subslide"
    }
   },
   "outputs": [
    {
     "data": {
      "image/png": "[encoded data removed]",
      "text/plain": [
       "<Figure size 864x504 with 2 Axes>"
      ]
     },
     "metadata": {
      "needs_background": "light"
     },
     "output_type": "display_data"
    }
   ],
   "source": [
    "fig, ax = plt.subplots(ncols = 2, figsize = (12,7))\n",
    "bins = np.arange(0, 3000,150 )\n",
    "ax[0].hist(data=df, x='duration_sec',bins=bins)\n",
    "ax[0].set_title(f\"Distribution des durées (sur {3000} secondes)\")\n",
    "ax[0].set_xlabel(\"Durée\")\n",
    "ax[0].set_ylabel(\"Nombre d'utilisation\")\n",
    "\n",
    "ax[1].hist(data=df, x='member_age',bins=int(df.member_age.max()/5)) # On veut voir les variations pour chaque 5 ans\n",
    "ax[1].set_title(\"Distribution de l'utilisation selon l'age\")\n",
    "ax[1].set_xlabel(\"Age\")\n",
    "ax[1].set_ylabel(\"Nombre d'utilisation\")\n",
    "\n",
    "\n",
    "plt.show()\n"
   ]
  },
  {
   "cell_type": "markdown",
   "metadata": {
    "collapsed": true,
    "slideshow": {
     "slide_type": "slide"
    }
   },
   "source": [
    "<span id=\"jour\"></span>\n",
    "## Distribution par jour de la semaine\n",
    "\n",
    "Il est nécéssaire de connaître les facteurs qui entraîne l'utilisation des velos si l'on veut augmenter le nombre d'utilisation. Une des faits que l'on a pu constater jusqu'à présent c'est le fait que l'utilisation des velos sont plus nombreux les **weekdays** que les **weekends**. Cela est peut-etre dû au fait que la majorité de l'utilisation des velos c'est pour **se rendre au travail**."
   ]
  },
  {
   "cell_type": "code",
   "execution_count": 6,
   "metadata": {
    "slideshow": {
     "slide_type": "subslide"
    }
   },
   "outputs": [
    {
     "data": {
      "image/png": "[encoded data removed]",
      "text/plain": [
       "<Figure size 720x360 with 1 Axes>"
      ]
     },
     "metadata": {
      "needs_background": "light"
     },
     "output_type": "display_data"
    }
   ],
   "source": [
    "# Definir un ordre\n",
    "jours = ['Monday','Tuesday', 'Wednesday','Thursday','Friday','Saturday','Sunday'];\n",
    "plt.figure(figsize=(10,5))\n",
    "df.day_name.value_counts()[jours].plot(kind='bar')\n",
    "plt.title(\"Utilisation des velos par jour de la semaine\")\n",
    "plt.xlabel(\"Libelle du jour\")\n",
    "plt.ylabel(\"Nombre d'utilisation\")\n",
    "plt.show()"
   ]
  },
  {
   "cell_type": "markdown",
   "metadata": {
    "slideshow": {
     "slide_type": "slide"
    }
   },
   "source": [
    "<span id=\"heure\"></span>\n",
    "## Distribution par heure\n",
    "\n",
    "La distribution de l'utilisation des velos par heure nous montre que il y a une sur-utilisation des velos à **8h** et à **17h**. Ces heures correspondent aux **heures de pointe**.<br>\n",
    "Cela ne fait que renforcer de plus en plus notre hypothèse qui dit que ces velos sont très utilisés pour se rendre aux travails."
   ]
  },
  {
   "cell_type": "code",
   "execution_count": 7,
   "metadata": {
    "slideshow": {
     "slide_type": "subslide"
    }
   },
   "outputs": [
    {
     "data": {
      "image/png": "[encoded data removed]",
      "text/plain": [
       "<Figure size 720x360 with 1 Axes>"
      ]
     },
     "metadata": {
      "needs_background": "light"
     },
     "output_type": "display_data"
    }
   ],
   "source": [
    "data = df.hours.value_counts().sort_index()\n",
    "jours = data.index\n",
    "plt.figure(figsize=(10,5))\n",
    "data.plot(kind='bar')\n",
    "plt.title(\"Distribution de l'utilisation par heure\")\n",
    "plt.xlabel(\"Date du jour\")\n",
    "plt.ylabel(\"Nombre d'utilisation\")\n",
    "plt.show()"
   ]
  }
 ],
 "metadata": {
  "celltoolbar": "Diaporama",
  "kernelspec": {
   "display_name": "Python 3 (ipykernel)",
   "language": "python",
   "name": "python3"
  },
  "language_info": {
   "codemirror_mode": {
    "name": "ipython",
    "version": 3
   },
   "file_extension": ".py",
   "mimetype": "text/x-python",
   "name": "python",
   "nbconvert_exporter": "python",
   "pygments_lexer": "ipython3",
   "version": "3.9.12"
  }
 },
 "nbformat": 4,
 "nbformat_minor": 2
}
